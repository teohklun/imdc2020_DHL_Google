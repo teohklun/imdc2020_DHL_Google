{
 "cells": [
  {
   "cell_type": "code",
   "execution_count": 1,
   "metadata": {},
   "outputs": [],
   "source": [
    "import itertools\n",
    "\n",
    "class Job:\n",
    "    def func(self):\n",
    "        print('Hello')\n",
    "        \n",
    "    def __init__(self,id, delivery, location, skills, time_windows,service=None, description=None):\n",
    "        self.id = id\n",
    "        self.delivery = delivery\n",
    "        self.location = location\n",
    "        self.skills = skills                \n",
    "        self.time_windows = time_windows\n",
    "        self.service = 300\n",
    "        self.description = description\n",
    "#         self.street=street\n",
    "        \n",
    "    def getID(self):\n",
    "        return self.id\n",
    "        "
   ]
  },
  {
   "cell_type": "code",
   "execution_count": 20,
   "metadata": {},
   "outputs": [],
   "source": [
    "test = Job(1,[1],[1.98935, 48.701],[1], [[32400, 36000]])"
   ]
  },
  {
   "cell_type": "code",
   "execution_count": null,
   "metadata": {},
   "outputs": [],
   "source": []
  },
  {
   "cell_type": "code",
   "execution_count": null,
   "metadata": {},
   "outputs": [],
   "source": []
  }
 ],
 "metadata": {
  "kernelspec": {
   "display_name": "Python 3",
   "language": "python",
   "name": "python3"
  },
  "language_info": {
   "codemirror_mode": {
    "name": "ipython",
    "version": 3
   },
   "file_extension": ".py",
   "mimetype": "text/x-python",
   "name": "python",
   "nbconvert_exporter": "python",
   "pygments_lexer": "ipython3",
   "version": "3.7.4"
  }
 },
 "nbformat": 4,
 "nbformat_minor": 2
}
