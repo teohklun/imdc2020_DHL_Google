{
 "cells": [
  {
   "cell_type": "code",
   "execution_count": 40,
   "metadata": {},
   "outputs": [],
   "source": [
    "import itertools\n",
    "\n",
    "class Vehicle:\n",
    "    def func(self):\n",
    "        print('Hello')\n",
    "        \n",
    "    def __init__(self,id, start, capacity, skills, time_window = None, end = None, name=None):\n",
    "        self.id = id\n",
    "        self.start = start\n",
    "        self.capacity = capacity\n",
    "        self.skills = skills\n",
    "        self.time_window = time_window\n",
    "        self.name = name\n",
    "        self.end = end\n",
    "        #self._id = 1\n",
    "\n",
    "    def getID(self):\n",
    "        return self.id\n",
    "        "
   ]
  },
  {
   "cell_type": "code",
   "execution_count": 43,
   "metadata": {},
   "outputs": [
    {
     "data": {
      "text/plain": [
       "1"
      ]
     },
     "execution_count": 43,
     "metadata": {},
     "output_type": "execute_result"
    }
   ],
   "source": [
    "test = Vehicle(1, [2.35044, 48.71764], [4], [1, 14], [28800, 43200], [2.35044, 48.71764])\n",
    "test.id\n"
   ]
  },
  {
   "cell_type": "code",
   "execution_count": null,
   "metadata": {},
   "outputs": [],
   "source": [
    "  \"vehicles\": [\n",
    "    {\n",
    "      \"id\": 1,\n",
    "      \"start\": [2.35044, 48.71764],\n",
    "      \"end\": [2.35044, 48.71764],\n",
    "      \"capacity\": [4],\n",
    "      \"skills\": [1, 14],\n",
    "      \"time_window\": [28800, 43200]\n",
    "    },"
   ]
  },
  {
   "cell_type": "code",
   "execution_count": null,
   "metadata": {},
   "outputs": [],
   "source": []
  },
  {
   "cell_type": "code",
   "execution_count": null,
   "metadata": {},
   "outputs": [],
   "source": []
  }
 ],
 "metadata": {
  "kernelspec": {
   "display_name": "Python 3",
   "language": "python",
   "name": "python3"
  },
  "language_info": {
   "codemirror_mode": {
    "name": "ipython",
    "version": 3
   },
   "file_extension": ".py",
   "mimetype": "text/x-python",
   "name": "python",
   "nbconvert_exporter": "python",
   "pygments_lexer": "ipython3",
   "version": "3.7.4"
  }
 },
 "nbformat": 4,
 "nbformat_minor": 2
}
