{
 "cells": [
  {
   "cell_type": "code",
   "execution_count": 1,
   "metadata": {},
   "outputs": [],
   "source": [
    "import itertools\n",
    "\n",
    "class Vehicle:\n",
    "    def func(self):\n",
    "        print('Hello')\n",
    "        \n",
    "    def __init__(self,id, start, capacity, skills, time_window = None, end = None, name=None):\n",
    "        self.id = id\n",
    "        self.start = start\n",
    "        self.capacity = capacity\n",
    "        self.skills = skills\n",
    "        self.time_window = time_window\n",
    "        self.name = name\n",
    "        self.end = end\n",
    "        #self._id = 1\n",
    "\n",
    "    def getID(self):\n",
    "        return self.id\n",
    "        "
   ]
  },
  {
   "cell_type": "code",
   "execution_count": 2,
   "metadata": {},
   "outputs": [
    {
     "data": {
      "text/plain": [
       "1"
      ]
     },
     "execution_count": 2,
     "metadata": {},
     "output_type": "execute_result"
    }
   ],
   "source": [
    "test = Vehicle(1, [2.35044, 48.71764], [4], [1, 14], [28800, 43200], [2.35044, 48.71764])\n",
    "test.skills\n"
   ]
  },
  {
   "cell_type": "code",
   "execution_count": 3,
   "metadata": {},
   "outputs": [
    {
     "ename": "SyntaxError",
     "evalue": "unexpected EOF while parsing (<ipython-input-3-506d483439df>, line 9)",
     "output_type": "error",
     "traceback": [
      "\u001b[1;36m  File \u001b[1;32m\"<ipython-input-3-506d483439df>\"\u001b[1;36m, line \u001b[1;32m9\u001b[0m\n\u001b[1;33m    },\u001b[0m\n\u001b[1;37m      ^\u001b[0m\n\u001b[1;31mSyntaxError\u001b[0m\u001b[1;31m:\u001b[0m unexpected EOF while parsing\n"
     ]
    }
   ],
   "source": [
    "  \"vehicles\": [\n",
    "    {\n",
    "      \"id\": 1,\n",
    "      \"start\": [2.35044, 48.71764],\n",
    "      \"end\": [2.35044, 48.71764],\n",
    "      \"capacity\": [4],\n",
    "      \"skills\": [1, 14],\n",
    "      \"time_window\": [28800, 43200]\n",
    "    },"
   ]
  },
  {
   "cell_type": "code",
   "execution_count": null,
   "metadata": {},
   "outputs": [],
   "source": []
  },
  {
   "cell_type": "code",
   "execution_count": null,
   "metadata": {},
   "outputs": [],
   "source": []
  }
 ],
 "metadata": {
  "kernelspec": {
   "display_name": "Python 3",
   "language": "python",
   "name": "python3"
  },
  "language_info": {
   "codemirror_mode": {
    "name": "ipython",
    "version": 3
   },
   "file_extension": ".py",
   "mimetype": "text/x-python",
   "name": "python",
   "nbconvert_exporter": "python",
   "pygments_lexer": "ipython3",
   "version": "3.7.4"
  }
 },
 "nbformat": 4,
 "nbformat_minor": 2
}
