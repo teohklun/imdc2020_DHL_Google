{
 "cells": [
  {
   "cell_type": "code",
   "execution_count": 3,
   "metadata": {},
   "outputs": [],
   "source": [
    "class Job:\n",
    "    def func(self):\n",
    "        print('Hello')\n",
    "        \n",
    "    def __init__(self):\n",
    "        print(\"This is the constructor method.\")\n",
    "        "
   ]
  },
  {
   "cell_type": "code",
   "execution_count": null,
   "metadata": {},
   "outputs": [],
   "source": [
    "id\tan integer used as unique identifier\n",
    "[location]\tcoordinates array\n",
    "[location_index]\tindex of relevant row and column in custom matrix\n",
    "[service]\tjob service duration (defaults to 0)\n",
    "[amount]\tan array of integers describing multidimensional quantities\n",
    "[delivery]\tan array of integers describing multidimensional quantities for delivery\n",
    "[pickup]\tan array of integers describing multidimensional quantities for pickup\n",
    "[skills]\tan array of integers defining mandatory skills\n",
    "[priority]\tan integer in the [0, 100] range describing priority level (defaults to 0)\n",
    "[time_windows]\tan array of time_window objects describing valid slots for job service start"
   ]
  }
 ],
 "metadata": {
  "kernelspec": {
   "display_name": "Python 3",
   "language": "python",
   "name": "python3"
  },
  "language_info": {
   "codemirror_mode": {
    "name": "ipython",
    "version": 3
   },
   "file_extension": ".py",
   "mimetype": "text/x-python",
   "name": "python",
   "nbconvert_exporter": "python",
   "pygments_lexer": "ipython3",
   "version": "3.7.4"
  }
 },
 "nbformat": 4,
 "nbformat_minor": 2
}
